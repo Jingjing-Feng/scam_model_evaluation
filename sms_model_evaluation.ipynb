{
  "cells": [
    {
      "cell_type": "markdown",
      "metadata": {
        "vscode": {
          "languageId": "raw"
        }
      },
      "source": [
        "# Spam Detection Model Evaluation\n",
        "\n",
        "This notebook demonstrates how to evaluate different Hugging Face models for spam detection.\n"
      ]
    },
    {
      "cell_type": "code",
      "execution_count": 8,
      "metadata": {},
      "outputs": [],
      "source": [
        "# Import required functions from our evaluation script\n",
        "from inference_evaluation import load_sms_dataset, load_email_dataset, sample_balanced_data, evaluate_model\n",
        "\n",
        "# Additional imports\n",
        "import pandas as pd\n",
        "import numpy as np\n",
        "import matplotlib.pyplot as plt\n",
        "import seaborn as sns\n"
      ]
    },
    {
      "cell_type": "markdown",
      "metadata": {
        "vscode": {
          "languageId": "raw"
        }
      },
      "source": [
        "## Load and Prepare Dataset"
      ]
    },
    {
      "cell_type": "code",
      "execution_count": 3,
      "metadata": {},
      "outputs": [
        {
          "name": "stdout",
          "output_type": "stream",
          "text": [
            "\n",
            "Sampled balanced dataset:\n",
            "Total samples: 300\n",
            "Spam samples: 150\n",
            "Non-spam samples: 150\n"
          ]
        }
      ],
      "source": [
        "# Load SMS dataset\n",
        "texts, labels = load_sms_dataset(\"data/phishing_sms_dataset_unique.csv\")\n",
        "\n",
        "# Sample balanced dataset\n",
        "# Increase n_samples for more thorough evaluation\n",
        "texts, labels = sample_balanced_data(texts, labels, n_samples=300)\n"
      ]
    },
    {
      "cell_type": "markdown",
      "metadata": {
        "vscode": {
          "languageId": "raw"
        }
      },
      "source": [
        "## Define Models to Test\n",
        "\n",
        "Here we define different models to evaluate. Each model might have different label names for spam/non-spam.\n"
      ]
    },
    {
      "cell_type": "code",
      "execution_count": 11,
      "metadata": {},
      "outputs": [],
      "source": [
        "# Define models to test with their respective spam labels\n",
        "models_to_test = [\n",
        "    {\"code\": 1, \"name\": \"mshenoda/roberta-spam\", \"spam_label\": \"LABEL_1\"},\n",
        "    {\"code\": 2, \"name\": \"mariagrandury/distilbert-base-uncased-finetuned-sms-spam-detection\", \"spam_label\": \"LABEL_1\"},\n",
        "    {\"code\": 3, \"name\": \"cybersectony/phishing-email-detection-distilbert_v2.1\", \"spam_label\": \"LABEL_1\"},\n",
        "    {\"code\": 4, \"name\": \"mrm8488/bert-tiny-finetuned-sms-spam-detection\", \"spam_label\": \"LABEL_1\"},\n",
        "    # {\"name\": \"distilbert/distilbert-base-uncased\", \"spam_label\": \"LABEL_1\"},\n",
        "]\n",
        "# Store results for comparison\n",
        "results_dict = {}\n"
      ]
    },
    {
      "cell_type": "markdown",
      "metadata": {
        "vscode": {
          "languageId": "raw"
        }
      },
      "source": [
        "## Evaluate Models\n"
      ]
    },
    {
      "cell_type": "code",
      "execution_count": 5,
      "metadata": {},
      "outputs": [
        {
          "name": "stdout",
          "output_type": "stream",
          "text": [
            "\n",
            "Evaluating mshenoda/roberta-spam...\n"
          ]
        },
        {
          "name": "stderr",
          "output_type": "stream",
          "text": [
            "Device set to use mps:0\n"
          ]
        },
        {
          "name": "stdout",
          "output_type": "stream",
          "text": [
            "\n",
            "Model Evaluation Results:\n",
            "-------------------------\n",
            "Accuracy: 0.9967\n",
            "\n",
            "Detailed Metrics:\n",
            "Precision: 1.0000\n",
            "Recall: 0.9933\n",
            "F1 Score: 0.9967\n",
            "\n",
            "Evaluating mariagrandury/distilbert-base-uncased-finetuned-sms-spam-detection...\n"
          ]
        },
        {
          "name": "stderr",
          "output_type": "stream",
          "text": [
            "Device set to use mps:0\n"
          ]
        },
        {
          "name": "stdout",
          "output_type": "stream",
          "text": [
            "\n",
            "Model Evaluation Results:\n",
            "-------------------------\n",
            "Accuracy: 0.9833\n",
            "\n",
            "Detailed Metrics:\n",
            "Precision: 1.0000\n",
            "Recall: 0.9667\n",
            "F1 Score: 0.9831\n",
            "\n",
            "Evaluating cybersectony/phishing-email-detection-distilbert_v2.1...\n"
          ]
        },
        {
          "name": "stderr",
          "output_type": "stream",
          "text": [
            "Device set to use mps:0\n"
          ]
        },
        {
          "name": "stdout",
          "output_type": "stream",
          "text": [
            "\n",
            "Model Evaluation Results:\n",
            "-------------------------\n",
            "Accuracy: 0.6867\n",
            "\n",
            "Detailed Metrics:\n",
            "Precision: 0.6207\n",
            "Recall: 0.9600\n",
            "F1 Score: 0.7539\n",
            "\n",
            "Evaluating mrm8488/bert-tiny-finetuned-sms-spam-detection...\n"
          ]
        },
        {
          "name": "stderr",
          "output_type": "stream",
          "text": [
            "Device set to use mps:0\n"
          ]
        },
        {
          "name": "stdout",
          "output_type": "stream",
          "text": [
            "\n",
            "Model Evaluation Results:\n",
            "-------------------------\n",
            "Accuracy: 0.9433\n",
            "\n",
            "Detailed Metrics:\n",
            "Precision: 1.0000\n",
            "Recall: 0.8867\n",
            "F1 Score: 0.9399\n"
          ]
        }
      ],
      "source": [
        "# Evaluate each model and store results\n",
        "for model in models_to_test:\n",
        "    print(f\"\\nEvaluating {model['name']}...\")\n",
        "    try:\n",
        "        results = evaluate_model(texts, labels, model_name=model['name'], spam_label=model['spam_label'])\n",
        "        results_dict[model['name']] = results\n",
        "    except Exception as e:\n",
        "        print(f\"Error evaluating {model['name']}: {e}\")\n",
        "        continue\n"
      ]
    },
    {
      "cell_type": "markdown",
      "metadata": {
        "vscode": {
          "languageId": "raw"
        }
      },
      "source": [
        "## Compare Results\n"
      ]
    },
    {
      "cell_type": "code",
      "execution_count": 6,
      "metadata": {},
      "outputs": [
        {
          "data": {
            "text/html": [
              "<div>\n",
              "<style scoped>\n",
              "    .dataframe tbody tr th:only-of-type {\n",
              "        vertical-align: middle;\n",
              "    }\n",
              "\n",
              "    .dataframe tbody tr th {\n",
              "        vertical-align: top;\n",
              "    }\n",
              "\n",
              "    .dataframe thead th {\n",
              "        text-align: right;\n",
              "    }\n",
              "</style>\n",
              "<table border=\"1\" class=\"dataframe\">\n",
              "  <thead>\n",
              "    <tr style=\"text-align: right;\">\n",
              "      <th></th>\n",
              "      <th>Model</th>\n",
              "      <th>Accuracy</th>\n",
              "      <th>Precision</th>\n",
              "      <th>Recall</th>\n",
              "      <th>F1 Score</th>\n",
              "    </tr>\n",
              "  </thead>\n",
              "  <tbody>\n",
              "    <tr>\n",
              "      <th>0</th>\n",
              "      <td>roberta-spam</td>\n",
              "      <td>0.996667</td>\n",
              "      <td>1.00000</td>\n",
              "      <td>0.993333</td>\n",
              "      <td>0.996656</td>\n",
              "    </tr>\n",
              "    <tr>\n",
              "      <th>1</th>\n",
              "      <td>distilbert-base-uncased-finetuned-sms-spam-det...</td>\n",
              "      <td>0.983333</td>\n",
              "      <td>1.00000</td>\n",
              "      <td>0.966667</td>\n",
              "      <td>0.983051</td>\n",
              "    </tr>\n",
              "    <tr>\n",
              "      <th>2</th>\n",
              "      <td>phishing-email-detection-distilbert_v2.1</td>\n",
              "      <td>0.686667</td>\n",
              "      <td>0.62069</td>\n",
              "      <td>0.960000</td>\n",
              "      <td>0.753927</td>\n",
              "    </tr>\n",
              "    <tr>\n",
              "      <th>3</th>\n",
              "      <td>bert-tiny-finetuned-sms-spam-detection</td>\n",
              "      <td>0.943333</td>\n",
              "      <td>1.00000</td>\n",
              "      <td>0.886667</td>\n",
              "      <td>0.939929</td>\n",
              "    </tr>\n",
              "  </tbody>\n",
              "</table>\n",
              "</div>"
            ],
            "text/plain": [
              "                                               Model  Accuracy  Precision  \\\n",
              "0                                       roberta-spam  0.996667    1.00000   \n",
              "1  distilbert-base-uncased-finetuned-sms-spam-det...  0.983333    1.00000   \n",
              "2           phishing-email-detection-distilbert_v2.1  0.686667    0.62069   \n",
              "3             bert-tiny-finetuned-sms-spam-detection  0.943333    1.00000   \n",
              "\n",
              "     Recall  F1 Score  \n",
              "0  0.993333  0.996656  \n",
              "1  0.966667  0.983051  \n",
              "2  0.960000  0.753927  \n",
              "3  0.886667  0.939929  "
            ]
          },
          "execution_count": 6,
          "metadata": {},
          "output_type": "execute_result"
        }
      ],
      "source": [
        "# Create comparison DataFrame\n",
        "comparison_data = []\n",
        "for model_name, results in results_dict.items():\n",
        "    comparison_data.append({\n",
        "        'Model': model_name.split('/')[-1],\n",
        "        'Accuracy': results['accuracy'],\n",
        "        'Precision': results['precision'],\n",
        "        'Recall': results['recall'],\n",
        "        'F1 Score': results['f1']\n",
        "    })\n",
        "\n",
        "comparison_df = pd.DataFrame(comparison_data)\n",
        "comparison_df\n"
      ]
    },
    {
      "cell_type": "markdown",
      "metadata": {
        "vscode": {
          "languageId": "raw"
        }
      },
      "source": [
        "## Visualize Results\n"
      ]
    },
    {
      "cell_type": "code",
      "execution_count": 14,
      "metadata": {},
      "outputs": [
        {
          "data": {
            "image/png": "[encoded data removed]",
            "text/plain": [
              "<Figure size 1200x800 with 1 Axes>"
            ]
          },
          "metadata": {},
          "output_type": "display_data"
        }
      ],
      "source": [
        "# Set up the plot style\n",
        "plt.style.use('ggplot')\n",
        "\n",
        "plt.figure(figsize=(12, 8))\n",
        "\n",
        "# Create bar plot\n",
        "metrics = ['Accuracy', 'Precision', 'Recall', 'F1 Score']\n",
        "x = np.arange(len(comparison_df))\n",
        "width = 0.2\n",
        "\n",
        "for i, metric in enumerate(metrics):\n",
        "    plt.bar(x + i*width, comparison_df[metric], width, label=metric)\n",
        "\n",
        "plt.xlabel('Models')\n",
        "plt.ylabel('Score')\n",
        "plt.title('Model Performance Comparison')\n",
        "plt.xticks(x + width*1.5, comparison_df['Model'], rotation=45)\n",
        "plt.legend()\n",
        "plt.tight_layout()\n",
        "plt.show()\n"
      ]
    }
  ],
  "metadata": {
    "kernelspec": {
      "display_name": "nlp",
      "language": "python",
      "name": "python3"
    },
    "language_info": {
      "codemirror_mode": {
        "name": "ipython",
        "version": 3
      },
      "file_extension": ".py",
      "mimetype": "text/x-python",
      "name": "python",
      "nbconvert_exporter": "python",
      "pygments_lexer": "ipython3",
      "version": "3.12.0"
    }
  },
  "nbformat": 4,
  "nbformat_minor": 2
}
